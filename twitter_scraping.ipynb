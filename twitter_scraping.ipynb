{
  "nbformat": 4,
  "nbformat_minor": 0,
  "metadata": {
    "colab": {
      "provenance": [],
      "authorship_tag": "ABX9TyOul+sBHkLXIiQTLudy3DEL",
      "include_colab_link": true
    },
    "kernelspec": {
      "name": "python3",
      "display_name": "Python 3"
    },
    "language_info": {
      "name": "python"
    }
  },
  "cells": [
    {
      "cell_type": "markdown",
      "metadata": {
        "id": "view-in-github",
        "colab_type": "text"
      },
      "source": [
        "<a href=\"https://colab.research.google.com/github/nishokramachandiran/Guvi-projects/blob/main/twitter_scraping.ipynb\" target=\"_parent\"><img src=\"https://colab.research.google.com/assets/colab-badge.svg\" alt=\"Open In Colab\"/></a>"
      ]
    },
    {
      "cell_type": "code",
      "execution_count": null,
      "metadata": {
        "colab": {
          "base_uri": "https://localhost:8080/",
          "height": 394
        },
        "id": "0ErkAjtmBt5L",
        "outputId": "cc7c83f8-d6e5-4a63-cf11-4e94cec910fa"
      },
      "outputs": [
        {
          "output_type": "error",
          "ename": "ModuleNotFoundError",
          "evalue": "ignored",
          "traceback": [
            "\u001b[0;31m---------------------------------------------------------------------------\u001b[0m",
            "\u001b[0;31mModuleNotFoundError\u001b[0m                       Traceback (most recent call last)",
            "\u001b[0;32m<ipython-input-2-ff0120a60947>\u001b[0m in \u001b[0;36m<cell line: 1>\u001b[0;34m()\u001b[0m\n\u001b[0;32m----> 1\u001b[0;31m \u001b[0;32mimport\u001b[0m \u001b[0mstreamlit\u001b[0m \u001b[0;32mas\u001b[0m \u001b[0mst\u001b[0m\u001b[0;34m\u001b[0m\u001b[0;34m\u001b[0m\u001b[0m\n\u001b[0m\u001b[1;32m      2\u001b[0m \u001b[0mst\u001b[0m\u001b[0;34m.\u001b[0m\u001b[0mtitle\u001b[0m\u001b[0;34m(\u001b[0m\u001b[0;34m\"firstproject\"\u001b[0m\u001b[0;34m)\u001b[0m\u001b[0;34m\u001b[0m\u001b[0;34m\u001b[0m\u001b[0m\n\u001b[1;32m      3\u001b[0m \u001b[0;32mimport\u001b[0m \u001b[0mpymongo\u001b[0m\u001b[0;34m\u001b[0m\u001b[0;34m\u001b[0m\u001b[0m\n\u001b[1;32m      4\u001b[0m \u001b[0;32mimport\u001b[0m \u001b[0msnscrape\u001b[0m\u001b[0;34m.\u001b[0m\u001b[0mmodules\u001b[0m\u001b[0;34m.\u001b[0m\u001b[0mtwitter\u001b[0m \u001b[0;32mas\u001b[0m \u001b[0msntwitter\u001b[0m\u001b[0;34m\u001b[0m\u001b[0;34m\u001b[0m\u001b[0m\n\u001b[1;32m      5\u001b[0m \u001b[0;32mimport\u001b[0m \u001b[0mpandas\u001b[0m \u001b[0;32mas\u001b[0m \u001b[0mpd\u001b[0m\u001b[0;34m\u001b[0m\u001b[0;34m\u001b[0m\u001b[0m\n",
            "\u001b[0;31mModuleNotFoundError\u001b[0m: No module named 'streamlit'",
            "",
            "\u001b[0;31m---------------------------------------------------------------------------\u001b[0;32m\nNOTE: If your import is failing due to a missing package, you can\nmanually install dependencies using either !pip or !apt.\n\nTo view examples of installing some common dependencies, click the\n\"Open Examples\" button below.\n\u001b[0;31m---------------------------------------------------------------------------\u001b[0m\n"
          ],
          "errorDetails": {
            "actions": [
              {
                "action": "open_url",
                "actionText": "Open Examples",
                "url": "/notebooks/snippets/importing_libraries.ipynb"
              }
            ]
          }
        }
      ],
      "source": [
        "import streamlit as st\n",
        "st.title(\"firstproject\")\n",
        "import pymongo\n",
        "import snscrape.modules.twitter as sntwitter\n",
        "import pandas as pd\n",
        "from datetime import date\n",
        "from io import StringIO\n",
        "\n",
        "st.title(\"Twitter scraping\")\n",
        "# Setting variables to be used below\n",
        "maxTweets = 100\n",
        "# Creating list to append tweet data to\n",
        "tweets_list2 = []\n",
        "# Using TwitterSearchScraper to scrape data and append tweets to list\n",
        "tag_the_user=st.sidebar.text_input(\"Enter the User_Hashtag:\")\n",
        "from_date=st.sidebar.date_input(\"From_date(YYYY-MM-DD):\")\n",
        "end_date=st.sidebar.date_input(\"End_date(YYYY-MM-DD):\")\n",
        "tweets_count=st.sidebar.number_input(\"enter the count:\",min_value=1,max_value=100)\n",
        "def convert_dataframe(dataframe):\n",
        "    # IMPORTANT: Cache the conversion to prevent computation on every rerun\n",
        "    return dataframe.to_csv().encode('utf-8')\n",
        "if st.button('Click me'):\n",
        "    for i,tweet in enumerate(sntwitter.TwitterSearchScraper(f\"from:{tag_the_user} since:{from_date} until:{end_date}\").get_items()):\n",
        "        if i>maxTweets:\n",
        "            break\n",
        "        tweets_list2.append([ tweet.id,\n",
        "                        tweet.user.username,\n",
        "                        tweet.url,\n",
        "                        tweet.rawContent,\n",
        "                        tweet.replyCount,\n",
        "                        tweet.retweetCount,\n",
        "                        tweet.likeCount,\n",
        "                        tweet.lang,\n",
        "                        tweet.source,\n",
        "                        tweet.date,])\n",
        "\n",
        "\n",
        "tweets_df2 = pd.DataFrame(tweets_list2, columns=['Tweet Id','Username', 'URL', 'Content', 'Replay Count', 'Re Tweet', 'Like Count', 'Lang', 'Source','Datetime'])\n",
        "tweets_df2\n",
        "tweet_download = convert_dataframe(tweets_df2)\n",
        "\n",
        "dic_values=tweets_df2.to_dict('list')\n",
        "# dic_values\n",
        "\n",
        "\n",
        "\n",
        "nishok = pymongo.MongoClient(\"mongodb+srv://nishok007:<password>@cluster0.kypea97.mongodb.net/\")\n",
        "db=nishok.project1\n",
        "project2=db.twitter\n",
        "project2.insert_one(dic_values)\n",
        "uploaded_file = st.file_uploader(\"Choose a file\")\n",
        "if uploaded_file is not None:\n",
        "#     To read file as bytes:\n",
        "    bytes_data = uploaded_file.getvalue()\n",
        "    st.write(bytes_data)\n",
        "    dataframe = pd.read_csv(uploaded_file)\n",
        "    dic_value2=dataframe.to_dict('list')\n",
        "    dic_value2\n",
        "    project2.insert_one(dic_value2)\n",
        "    st.success('Upload to MongoDB Successful!', icon=\"✅\")\n",
        "\n",
        "\n",
        "#Download file\n",
        "upload_file = convert_dataframe(dataframe)\n",
        "st.download_button(\n",
        "    label=\"Download scraping data as CSV\",\n",
        "    data=tweet_download,\n",
        "    file_name='scraped_data.csv',\n",
        "    mime='text/csv')\n",
        "st.download_button(\n",
        "    label=\"Download upload data as CSV\",\n",
        "    data=upload_file,\n",
        "    file_name='upload_file_data.csv',\n",
        "    mime='text/csv')"
      ]
    },
    {
      "cell_type": "code",
      "source": [],
      "metadata": {
        "id": "Qtv6gUQiDe80"
      },
      "execution_count": null,
      "outputs": []
    }
  ]
}